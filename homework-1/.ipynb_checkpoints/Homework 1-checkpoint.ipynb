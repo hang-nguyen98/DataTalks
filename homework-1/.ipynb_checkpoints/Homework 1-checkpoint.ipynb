{
 "cells": [
  {
   "cell_type": "code",
   "execution_count": 1,
   "id": "de115d6b-279c-4e22-91e1-ab552e73a3f5",
   "metadata": {},
   "outputs": [],
   "source": [
    "import pandas as pd\n",
    "import numpy as np"
   ]
  },
  {
   "cell_type": "markdown",
   "id": "f51c16d8-7b12-47b7-82b5-6772c44c72b5",
   "metadata": {},
   "source": [
    "Question 1. Pandas version (1 point)"
   ]
  },
  {
   "cell_type": "code",
   "execution_count": 2,
   "id": "bd225ec3-0fe7-4fcb-97ab-d472cf22fbfe",
   "metadata": {},
   "outputs": [
    {
     "data": {
      "text/plain": [
       "'2.3.3'"
      ]
     },
     "execution_count": 2,
     "metadata": {},
     "output_type": "execute_result"
    }
   ],
   "source": [
    "pd.__version__"
   ]
  },
  {
   "cell_type": "markdown",
   "id": "ca8068c5-bf54-4965-af9a-eb9d7df8d459",
   "metadata": {},
   "source": [
    "Question 2. Records count (1 point)"
   ]
  },
  {
   "cell_type": "code",
   "execution_count": 3,
   "id": "b9a529e4-d810-4c9c-be07-75e257031bd4",
   "metadata": {},
   "outputs": [
    {
     "name": "stdout",
     "output_type": "stream",
     "text": [
      "9704\n"
     ]
    }
   ],
   "source": [
    "df = pd.read_csv('car_fuel_efficiency.csv') \n",
    "num_rows = len(df)\n",
    "print(num_rows)"
   ]
  },
  {
   "cell_type": "markdown",
   "id": "061f3da5-14d4-4e43-85c1-d1fe422a766c",
   "metadata": {},
   "source": [
    "Question 3. Fuel types (1 point)"
   ]
  },
  {
   "cell_type": "code",
   "execution_count": 4,
   "id": "87d836cb-c20d-421a-a2e3-6684d8823186",
   "metadata": {},
   "outputs": [
    {
     "data": {
      "text/plain": [
       "2"
      ]
     },
     "execution_count": 4,
     "metadata": {},
     "output_type": "execute_result"
    }
   ],
   "source": [
    "df['fuel_type'].nunique()"
   ]
  },
  {
   "cell_type": "markdown",
   "id": "251ddf1a-ed5d-4d9d-8365-669ebfab39ee",
   "metadata": {},
   "source": [
    "Question 4. Missing values (1 point)"
   ]
  },
  {
   "cell_type": "code",
   "execution_count": 5,
   "id": "d53d1a70-7f5a-46af-b219-34894e02a7b6",
   "metadata": {},
   "outputs": [
    {
     "data": {
      "text/plain": [
       "4"
      ]
     },
     "execution_count": 5,
     "metadata": {},
     "output_type": "execute_result"
    }
   ],
   "source": [
    "df.isnull().any().sum()"
   ]
  },
  {
   "cell_type": "markdown",
   "id": "b93a3f22-d6ec-423d-952b-04d385e2782d",
   "metadata": {},
   "source": [
    "Question 5. Max fuel efficiency (1 point)"
   ]
  },
  {
   "cell_type": "code",
   "execution_count": 6,
   "id": "6b61c2de-b28f-4504-bcd2-eabb078d5de3",
   "metadata": {},
   "outputs": [
    {
     "data": {
      "text/plain": [
       "23.759122836520497"
      ]
     },
     "execution_count": 6,
     "metadata": {},
     "output_type": "execute_result"
    }
   ],
   "source": [
    "df[df['origin'] == 'Asia']['fuel_efficiency_mpg'].max()"
   ]
  },
  {
   "cell_type": "markdown",
   "id": "4d4014d9-48da-499b-9b2d-d45b7193738f",
   "metadata": {},
   "source": [
    "Question 6. Median value of horsepower (1 point)"
   ]
  },
  {
   "cell_type": "code",
   "execution_count": 7,
   "id": "4da3c54d-aad2-4e58-934d-ae3b44d4c179",
   "metadata": {},
   "outputs": [
    {
     "name": "stdout",
     "output_type": "stream",
     "text": [
      "149.0\n"
     ]
    }
   ],
   "source": [
    "horsepower_median = df['horsepower'].median()\n",
    "print(horsepower_median)"
   ]
  },
  {
   "cell_type": "code",
   "execution_count": 8,
   "id": "513ed6dc-8011-4ae5-afc5-93a02d9a6d1c",
   "metadata": {},
   "outputs": [
    {
     "data": {
      "text/plain": [
       "0       159.0\n",
       "1        97.0\n",
       "2        78.0\n",
       "3         NaN\n",
       "4       140.0\n",
       "        ...  \n",
       "9699    164.0\n",
       "9700    154.0\n",
       "9701    138.0\n",
       "9702    177.0\n",
       "9703    140.0\n",
       "Name: horsepower, Length: 9704, dtype: float64"
      ]
     },
     "execution_count": 8,
     "metadata": {},
     "output_type": "execute_result"
    }
   ],
   "source": [
    "df['horsepower']"
   ]
  },
  {
   "cell_type": "code",
   "execution_count": 9,
   "id": "e922ecff-f246-4d58-9ea4-fbeb829c5e33",
   "metadata": {},
   "outputs": [
    {
     "name": "stdout",
     "output_type": "stream",
     "text": [
      "152.0\n"
     ]
    }
   ],
   "source": [
    "horsepower_mode = df['horsepower'].mode()[0]\n",
    "print(horsepower_mode)"
   ]
  },
  {
   "cell_type": "code",
   "execution_count": 10,
   "id": "949a55d5-08db-47ac-bb3f-f55c219c3b2e",
   "metadata": {},
   "outputs": [],
   "source": [
    "df['horsepower'] = df['horsepower'].fillna(horsepower_mode)"
   ]
  },
  {
   "cell_type": "code",
   "execution_count": 21,
   "id": "2eb21c59-1d0e-4d0e-9533-89d38833a44f",
   "metadata": {},
   "outputs": [
    {
     "data": {
      "text/plain": [
       "0       159.0\n",
       "1        97.0\n",
       "2        78.0\n",
       "3       152.0\n",
       "4       140.0\n",
       "        ...  \n",
       "9699    164.0\n",
       "9700    154.0\n",
       "9701    138.0\n",
       "9702    177.0\n",
       "9703    140.0\n",
       "Name: horsepower, Length: 9704, dtype: float64"
      ]
     },
     "execution_count": 21,
     "metadata": {},
     "output_type": "execute_result"
    }
   ],
   "source": [
    "df['horsepower']"
   ]
  },
  {
   "cell_type": "code",
   "execution_count": 12,
   "id": "2e62b011-a063-4c0c-8ce4-77af39df601d",
   "metadata": {},
   "outputs": [
    {
     "name": "stdout",
     "output_type": "stream",
     "text": [
      "152.0\n"
     ]
    }
   ],
   "source": [
    "print(df['horsepower'].median())"
   ]
  },
  {
   "cell_type": "markdown",
   "id": "f841bce7-a851-4aab-9557-a23f72148331",
   "metadata": {},
   "source": [
    "Question 7. Sum of weights (1 point)"
   ]
  },
  {
   "cell_type": "code",
   "execution_count": 13,
   "id": "5404a3fb-e2f9-4cac-b2e5-ed65032f5232",
   "metadata": {},
   "outputs": [
    {
     "data": {
      "text/html": [
       "<div>\n",
       "<style scoped>\n",
       "    .dataframe tbody tr th:only-of-type {\n",
       "        vertical-align: middle;\n",
       "    }\n",
       "\n",
       "    .dataframe tbody tr th {\n",
       "        vertical-align: top;\n",
       "    }\n",
       "\n",
       "    .dataframe thead th {\n",
       "        text-align: right;\n",
       "    }\n",
       "</style>\n",
       "<table border=\"1\" class=\"dataframe\">\n",
       "  <thead>\n",
       "    <tr style=\"text-align: right;\">\n",
       "      <th></th>\n",
       "      <th>vehicle_weight</th>\n",
       "      <th>model_year</th>\n",
       "    </tr>\n",
       "  </thead>\n",
       "  <tbody>\n",
       "    <tr>\n",
       "      <th>8</th>\n",
       "      <td>2714.219310</td>\n",
       "      <td>2016</td>\n",
       "    </tr>\n",
       "    <tr>\n",
       "      <th>12</th>\n",
       "      <td>2783.868974</td>\n",
       "      <td>2010</td>\n",
       "    </tr>\n",
       "    <tr>\n",
       "      <th>14</th>\n",
       "      <td>3582.687368</td>\n",
       "      <td>2007</td>\n",
       "    </tr>\n",
       "    <tr>\n",
       "      <th>20</th>\n",
       "      <td>2231.808142</td>\n",
       "      <td>2011</td>\n",
       "    </tr>\n",
       "    <tr>\n",
       "      <th>21</th>\n",
       "      <td>2659.431451</td>\n",
       "      <td>2016</td>\n",
       "    </tr>\n",
       "    <tr>\n",
       "      <th>34</th>\n",
       "      <td>2844.227534</td>\n",
       "      <td>2014</td>\n",
       "    </tr>\n",
       "    <tr>\n",
       "      <th>38</th>\n",
       "      <td>3761.994038</td>\n",
       "      <td>2019</td>\n",
       "    </tr>\n",
       "  </tbody>\n",
       "</table>\n",
       "</div>"
      ],
      "text/plain": [
       "    vehicle_weight  model_year\n",
       "8      2714.219310        2016\n",
       "12     2783.868974        2010\n",
       "14     3582.687368        2007\n",
       "20     2231.808142        2011\n",
       "21     2659.431451        2016\n",
       "34     2844.227534        2014\n",
       "38     3761.994038        2019"
      ]
     },
     "execution_count": 13,
     "metadata": {},
     "output_type": "execute_result"
    }
   ],
   "source": [
    "df[df['origin'] == 'Asia'][['vehicle_weight','model_year']].head(7)"
   ]
  },
  {
   "cell_type": "code",
   "execution_count": 14,
   "id": "836e721e-8bd7-4926-befd-9c4ab33f12f4",
   "metadata": {},
   "outputs": [
    {
     "name": "stdout",
     "output_type": "stream",
     "text": [
      "[[2714.21930965 2016.        ]\n",
      " [2783.86897424 2010.        ]\n",
      " [3582.68736772 2007.        ]\n",
      " [2231.8081416  2011.        ]\n",
      " [2659.43145076 2016.        ]\n",
      " [2844.22753389 2014.        ]\n",
      " [3761.99403819 2019.        ]]\n"
     ]
    }
   ],
   "source": [
    "X = np.array(df[df['origin'] == 'Asia'][['vehicle_weight','model_year']].head(7))\n",
    "print(X)"
   ]
  },
  {
   "cell_type": "code",
   "execution_count": 15,
   "id": "f7f019f5-d7a6-479c-aec8-6081c395c2af",
   "metadata": {},
   "outputs": [
    {
     "name": "stdout",
     "output_type": "stream",
     "text": [
      "[[62248334.33150762 41431216.5073268 ]\n",
      " [41431216.5073268  28373339.        ]]\n"
     ]
    }
   ],
   "source": [
    "XTX = X.T @ X\n",
    "print(XTX)"
   ]
  },
  {
   "cell_type": "code",
   "execution_count": 16,
   "id": "bf291cca-41d2-4c06-8f78-001daed8a7d0",
   "metadata": {},
   "outputs": [
    {
     "name": "stdout",
     "output_type": "stream",
     "text": [
      "[[ 5.71497081e-07 -8.34509443e-07]\n",
      " [-8.34509443e-07  1.25380877e-06]]\n"
     ]
    }
   ],
   "source": [
    "XTX_inv = np.linalg.inv(XTX)\n",
    "print(XTX_inv)"
   ]
  },
  {
   "cell_type": "code",
   "execution_count": 17,
   "id": "d8fec09c-1bff-40c5-bab9-2dcb92480aee",
   "metadata": {},
   "outputs": [],
   "source": [
    "y = np.array([1100, 1300, 800, 900, 1000, 1100, 1200])"
   ]
  },
  {
   "cell_type": "code",
   "execution_count": 18,
   "id": "ce1dbf6b-2d4c-4f7b-95b1-5b5afd9118ba",
   "metadata": {},
   "outputs": [],
   "source": [
    "w = (XTX_inv @ X.T) @ y"
   ]
  },
  {
   "cell_type": "code",
   "execution_count": 19,
   "id": "06007e10-368b-4240-af46-d12970ee6e81",
   "metadata": {},
   "outputs": [
    {
     "data": {
      "text/plain": [
       "array([0.01386421, 0.5049067 ])"
      ]
     },
     "execution_count": 19,
     "metadata": {},
     "output_type": "execute_result"
    }
   ],
   "source": [
    "w"
   ]
  },
  {
   "cell_type": "code",
   "execution_count": 20,
   "id": "fe4db531-ba27-42eb-957a-2542b9f43768",
   "metadata": {},
   "outputs": [
    {
     "data": {
      "text/plain": [
       "0.5187709081074026"
      ]
     },
     "execution_count": 20,
     "metadata": {},
     "output_type": "execute_result"
    }
   ],
   "source": [
    "sum(w)"
   ]
  }
 ],
 "metadata": {
  "kernelspec": {
   "display_name": "Python 3",
   "language": "python",
   "name": "python3"
  },
  "language_info": {
   "codemirror_mode": {
    "name": "ipython",
    "version": 3
   },
   "file_extension": ".py",
   "mimetype": "text/x-python",
   "name": "python",
   "nbconvert_exporter": "python",
   "pygments_lexer": "ipython3",
   "version": "3.9.6"
  }
 },
 "nbformat": 4,
 "nbformat_minor": 5
}
